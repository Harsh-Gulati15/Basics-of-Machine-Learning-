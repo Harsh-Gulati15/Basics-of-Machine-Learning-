{
 "cells": [
  {
   "cell_type": "code",
   "metadata": {},
     "data": {
      "text/plain": [
       "{1: 'h', 2: 'a', 3: 'r', 4: 'c', 5: 'h'}"
      ]
     },
     "execution_count": 3,
     "metadata": {},
     "output_type": "execute_result"
    }
   ],
   "source": [
    "d={1:\"h\",2:\"a\",3:\"r\",4:\"c\",5:\"h\"}\n",
    "d"
   ]
  },
  {
   "cell_type": "code",
   "execution_count": 2,
   "id": "0b3bdf18",
   "metadata": {},
   "outputs": [
    {
     "data": {
      "text/plain": [
       "{1: 'h', 2: 'a', 3: 'r', 4: 'c', 5: 'h', 6: 'g'}"
      ]
     },
     "execution_count": 2,
     "metadata": {},
     "output_type": "execute_result"
    }
   ],
   "source": [
    "# inserting element\n",
    "d[6]=\"g\"\n",
    "d"
   ]
  },
  {
   "cell_type": "code",
   "execution_count": 7,
   "id": "0c73cd9b",
   "metadata": {},
   "outputs": [
    {
     "data": {
      "text/plain": [
       "{1: 'h', 2: 'a', 3: 'r', 4: 'c', 5: 'h', 6: 'g', 7: 'g'}"
      ]
     },
     "execution_count": 7,
     "metadata": {},
     "output_type": "execute_result"
    }
   ],
   "source": [
    "# another way of inserting element\n",
    "e={7:'g'}\n",
    "d.update(e)\n",
    "d"
   ]
  },
  {
   "cell_type": "code",
   "execution_count": 9,
   "id": "ad19d51a",
   "metadata": {},
   "outputs": [
    {
     "data": {
      "text/plain": [
       "{1: 'h', 2: 'a', 3: 'r', 4: 'c', 5: 'h', 6: 'g', 7: 'g', 8: 'u'}"
      ]
     },
     "execution_count": 9,
     "metadata": {},
     "output_type": "execute_result"
    }
   ],
   "source": [
    "# updating elements of a dictionary, if wanted to add a key value pair, create a new dictionay and insert it in original\n",
    "dnew={8:'u'}\n",
    "d.update(dnew)\n",
    "d"
   ]
  },
  {
   "cell_type": "code",
   "execution_count": 10,
   "id": "b26e9a68",
   "metadata": {},
   "outputs": [
    {
     "data": {
      "text/plain": [
       "'c'"
      ]
     },
     "execution_count": 10,
     "metadata": {},
     "output_type": "execute_result"
    }
   ],
   "source": [
    "d[4]\n"
   ]
  },
  {
   "cell_type": "code",
   "execution_count": 11,
   "id": "9a1b2a4b",
   "metadata": {},
   "outputs": [
    {
     "data": {
      "text/plain": [
       "{1: 'h',\n",
       " 2: 'a',\n",
       " 3: 'r',\n",
       " 4: 'c',\n",
       " 5: 'h',\n",
       " 6: 'g',\n",
       " 7: 'g',\n",
       " 8: 'u',\n",
       " 9: 'l',\n",
       " 10: 'a'}"
      ]
     },
     "execution_count": 11,
     "metadata": {},
     "output_type": "execute_result"
    }
   ],
   "source": [
    "#update() When Tuple is Passed\n",
    "d.update([(9,'l'),(10,'a')])\n",
    "d"
   ]
  },
  {
   "cell_type": "code",
   "execution_count": 12,
   "id": "119eb9ef",
   "metadata": {},
   "outputs": [
    {
     "data": {
      "text/plain": [
       "{1: 'h', 2: 'a', 3: 'r', 4: 'c', 5: 'h', 6: 'g', 7: 'g', 8: 'u', 10: 'a'}"
      ]
     },
     "execution_count": 12,
     "metadata": {},
     "output_type": "execute_result"
    }
   ],
   "source": [
    "# deleting \n",
    "del d[9]\n",
    "d"
   ]
  },
  {
   "cell_type": "code",
   "execution_count": 14,
   "id": "11403125",
   "metadata": {},
   "outputs": [
    {
     "data": {
      "text/plain": [
       "[1, 2, 3, 4, 5, 6, 7, 8, 10]"
      ]
     },
     "execution_count": 14,
     "metadata": {},
     "output_type": "execute_result"
    }
   ],
   "source": [
    "#convert into list\n",
    "list(d)\n"
   ]
  },
  {
   "cell_type": "code",
   "execution_count": 15,
   "id": "1d03db33",
   "metadata": {},
   "outputs": [
    {
     "data": {
      "text/plain": [
       "[1, 2, 3, 4, 5, 6, 7, 8, 10]"
      ]
     },
     "execution_count": 15,
     "metadata": {},
     "output_type": "execute_result"
    }
   ],
   "source": [
    "sorted(d)\n"
   ]
  },
  {
   "cell_type": "code",
   "execution_count": 16,
   "id": "4873b593",
   "metadata": {},
   "outputs": [
    {
     "data": {
      "text/plain": [
       "{1: 'h', 2: 'a', 3: 'r', 4: 'c', 5: 'h', 6: 'g', 7: 'g', 8: 'u', 10: 'a'}"
      ]
     },
     "execution_count": 16,
     "metadata": {},
     "output_type": "execute_result"
    }
   ],
   "source": [
    "d"
   ]
  },
  {
   "cell_type": "code",
   "execution_count": 17,
   "id": "50b33757",
   "metadata": {},
   "outputs": [
    {
     "data": {
      "text/plain": [
       "True"
      ]
     },
     "execution_count": 17,
     "metadata": {},
     "output_type": "execute_result"
    }
   ],
   "source": [
    "1 in d\n"
   ]
  },
  {
   "cell_type": "code",
   "execution_count": 18,
   "id": "a8f46122",
   "metadata": {},
   "outputs": [
    {
     "data": {
      "text/plain": [
       "False"
      ]
     },
     "execution_count": 18,
     "metadata": {},
     "output_type": "execute_result"
    }
   ],
   "source": [
    "'h' in d  # key ke liye hi hota hai membership "
   ]
  },
  {
   "cell_type": "code",
   "execution_count": 40,
   "id": "06232bcc",
   "metadata": {},
   "outputs": [
    {
     "data": {
      "text/plain": [
       "{101: 'p', 102: 'r', 103: 'i'}"
      ]
     },
     "execution_count": 40,
     "metadata": {},
     "output_type": "execute_result"
    }
   ],
   "source": [
    "# using dict constructor  \n",
    "a=dict([(101,'p'),(102,'r'),(103,'i')])\n",
    "a"
   ]
  },
  {
   "cell_type": "code",
   "execution_count": 43,
   "id": "cd6d4eb9",
   "metadata": {},
   "outputs": [
    {
     "data": {
      "text/plain": [
       "{0: 0, 1: 1, 2: 4, 3: 9, 4: 16, 5: 25, 6: 36, 7: 49, 8: 64, 9: 81}"
      ]
     },
     "execution_count": 43,
     "metadata": {},
     "output_type": "execute_result"
    }
   ],
   "source": [
    "# creating  dictionaries from arbitrary key and value expressions:\n",
    "c={x:x**2 for x in range(10)}\n",
    "c"
   ]
  },
  {
   "cell_type": "code",
   "execution_count": 21,
   "id": "f79092a2",
   "metadata": {},
   "outputs": [
    {
     "data": {
      "text/plain": [
       "{'harsh': 400, 'bhai': 500, 'bro': 700, 'haha': 800}"
      ]
     },
     "execution_count": 21,
     "metadata": {},
     "output_type": "execute_result"
    }
   ],
   "source": [
    "# another way of creating dictionaryWhen the keys are simple strings, it is sometimes easier to specify pairs using keyword arguments:\n",
    "e=dict(harsh=400, bhai=500, bro=700,haha=800)\n",
    "e"
   ]
  },
  {
   "cell_type": "code",
   "execution_count": 25,
   "id": "3929f5a5",
   "metadata": {},
   "outputs": [
    {
     "data": {
      "text/plain": [
       "{1: 'h', 2: 'a', 3: 'r', 4: 'c', 5: 'h', 6: 'g', 7: 'g', 8: 'u', 10: 'a'}"
      ]
     },
     "execution_count": 25,
     "metadata": {},
     "output_type": "execute_result"
    }
   ],
   "source": [
    "# looping techniques\n",
    "#the key and corresponding value can be retrieved at the same time using the items() method.\n",
    "d"
   ]
  },
  {
   "cell_type": "code",
   "execution_count": 29,
   "id": "17e4f736",
   "metadata": {},
   "outputs": [
    {
     "name": "stdout",
     "output_type": "stream",
     "text": [
      "1 h\n",
      "2 a\n",
      "3 r\n",
      "4 c\n",
      "5 h\n",
      "6 g\n",
      "7 g\n",
      "8 u\n",
      "10 a\n"
     ]
    }
   ],
   "source": [
    "for vy,xy in d.items():\n",
    "   print(vy,xy)"
   ]
  },
  {
   "cell_type": "code",
   "execution_count": 32,
   "id": "0bf9443c",
   "metadata": {},
   "outputs": [
    {
     "name": "stdout",
     "output_type": "stream",
     "text": [
      "0 1\n",
      "1 2\n",
      "2 3\n",
      "3 4\n",
      "4 5\n",
      "5 6\n",
      "6 7\n",
      "7 8\n",
      "8 10\n"
     ]
    }
   ],
   "source": [
    "# the position index and corresponding key of dictionary can be retrieved at the same time using the enumerate() function.\n",
    "for h,i in enumerate(d):\n",
    "    print(h,i)"
   ]
  },
  {
   "cell_type": "code",
   "execution_count": 33,
   "id": "565c74d2",
   "metadata": {},
   "outputs": [
    {
     "name": "stdout",
     "output_type": "stream",
     "text": [
      "name ? harsh\n",
      "ram ? android\n",
      "os ? 4\n"
     ]
    }
   ],
   "source": [
    "# To loop over two or more sequences at the same time, the entries can be paired with the zip() function.\n",
    "q={'name ?','os ?','ram ?'}\n",
    "s={\"harsh\",\"android\",4}\n",
    "for g,h in zip(q,s):\n",
    "    print(g,h)\n"
   ]
  },
  {
   "cell_type": "code",
   "execution_count": 42,
   "id": "0a75f883",
   "metadata": {},
   "outputs": [
    {
     "name": "stdout",
     "output_type": "stream",
     "text": [
      "19\n",
      "16\n",
      "13\n",
      "10\n",
      "7\n",
      "4\n",
      "1\n"
     ]
    }
   ],
   "source": [
    "# To loop over a sequence in reverse, first specify the sequence in a forward direction and then call the reversed() function.\n",
    "for i in reversed (range(1,20,3)):\n",
    "    print(i)"
   ]
  },
  {
   "cell_type": "code",
   "execution_count": 44,
   "id": "8ab23917",
   "metadata": {},
   "outputs": [
    {
     "name": "stdout",
     "output_type": "stream",
     "text": [
      "1\n",
      "3\n",
      "5\n",
      "6\n",
      "7\n",
      "9\n",
      "10\n",
      "71\n"
     ]
    }
   ],
   "source": [
    "# To loop over a sequence in sorted order, use the sorted() function which returns a new sorted list while leaving the source unaltered.\n",
    "diction={1,3,6,7,3,5,9,10,5,71}\n",
    "for i in sorted(diction):\n",
    "    print(i)"
   ]
  },
  {
   "cell_type": "code",
   "execution_count": 46,
   "id": "9b1908dc",
   "metadata": {},
   "outputs": [
    {
     "name": "stdout",
     "output_type": "stream",
     "text": [
      "1\n",
      "4\n",
      "8\n",
      "9\n",
      "10\n",
      "75\n",
      "599\n",
      "600\n"
     ]
    }
   ],
   "source": [
    "list=[1,8,9,10,599,75,4,600]\n",
    "for i in sorted(list):\n",
    "    print(i)\n"
   ]
  },
  {
   "cell_type": "code",
   "execution_count": 47,
   "id": "0c25c103",
   "metadata": {},
   "outputs": [
    {
     "name": "stdout",
     "output_type": "stream",
     "text": [
      "1\n",
      "4\n",
      "5\n",
      "6\n",
      "58\n",
      "78\n",
      "90\n",
      "98\n"
     ]
    }
   ],
   "source": [
    "''' Using set() on a sequence eliminates duplicate elements. The use of sorted() in combination with set() over a sequence \n",
    "is an idiomatic way to loop over unique elements of the sequence in sorted order.'''\n",
    "dicti={78,90,6,4,1,5,98,90,6,58}\n",
    "for i in sorted(set(dicti)):\n",
    "    print(i)"
   ]
  },
  {
   "cell_type": "code",
   "execution_count": 48,
   "id": "bfea7d34",
   "metadata": {},
   "outputs": [
    {
     "name": "stdout",
     "output_type": "stream",
     "text": [
      "apple\n",
      "banana\n",
      "orange\n",
      "pear\n"
     ]
    }
   ],
   "source": [
    "basket = ['apple', 'orange', 'apple', 'pear', 'orange', 'banana']\n",
    "for i in sorted(set(basket)):\n",
    "    print(i)"
   ]
  },
  {
   "cell_type": "code",
   "execution_count": 5,
   "id": "a34f5895",
   "metadata": {},
   "outputs": [
    {
     "data": {
      "text/plain": [
       "'r'"
      ]
     },
     "execution_count": 5,
     "metadata": {},
     "output_type": "execute_result"
    }
   ],
   "source": [
    "# accesing value for a key\n",
    "d[3]\n"
   ]
  },
  {
   "cell_type": "code",
   "execution_count": 7,
   "id": "45351678",
   "metadata": {},
   "outputs": [
    {
     "data": {
      "text/plain": [
       "dict_keys([1, 2, 3, 4, 5])"
      ]
     },
     "execution_count": 7,
     "metadata": {},
     "output_type": "execute_result"
    }
   ],
   "source": [
    "# accesing keys or values simulatneously\n",
    "d.keys()\n",
    "\n"
   ]
  },
  {
   "cell_type": "code",
   "execution_count": 8,
   "id": "330eb35e",
   "metadata": {},
   "outputs": [
    {
     "data": {
      "text/plain": [
       "dict_values(['h', 'a', 'r', 'c', 'h'])"
      ]
     },
     "execution_count": 8,
     "metadata": {},
     "output_type": "execute_result"
    }
   ],
   "source": [
    "d.values()"
   ]
  },
  {
   "cell_type": "code",
   "execution_count": 9,
   "id": "03c8206b",
   "metadata": {},
   "outputs": [],
   "source": [
    "d[5]=\"H\"  # like lists dictionarries are also mutable, we chnage vaalue of a certain key using the assignment statement"
   ]
  },
  {
   "cell_type": "code",
   "execution_count": 10,
   "id": "81eeb503",
   "metadata": {},
   "outputs": [
    {
     "data": {
      "text/plain": [
       "{1: 'h', 2: 'a', 3: 'r', 4: 'c', 5: 'H'}"
      ]
     },
     "execution_count": 10,
     "metadata": {},
     "output_type": "execute_result"
    }
   ],
   "source": [
    "d"
   ]
  },
  {
   "cell_type": "code",
   "execution_count": 11,
   "id": "eda74aba",
   "metadata": {},
   "outputs": [
    {
     "name": "stdout",
     "output_type": "stream",
     "text": [
      "1\n",
      "2\n",
      "3\n",
      "4\n",
      "5\n"
     ]
    }
   ],
   "source": [
    "# dictionary operations\n",
    "# 1 traversing a dictionary\n",
    "for i in d:\n",
    "    print(i)"
   ]
  },
  {
   "cell_type": "code",
   "execution_count": 16,
   "id": "92e62df6",
   "metadata": {},
   "outputs": [
    {
     "name": "stdout",
     "output_type": "stream",
     "text": [
      "1 : h\n",
      "2 : a\n",
      "3 : r\n",
      "4 : c\n",
      "5 : H\n"
     ]
    }
   ],
   "source": [
    "for key in d:\n",
    "    print(key,':',d[key])"
   ]
  },
  {
   "cell_type": "code",
   "execution_count": 19,
   "id": "a3ad9910",
   "metadata": {},
   "outputs": [
    {
     "name": "stdout",
     "output_type": "stream",
     "text": [
      "1 : h\n",
      "2 : a\n",
      "3 : r\n",
      "4 : c\n",
      "5 : H\n"
     ]
    }
   ],
   "source": [
    "for i in d:\n",
    "    print(i,\":\",d[i])"
   ]
  },
  {
   "cell_type": "code",
   "execution_count": 20,
   "id": "f01aebd4",
   "metadata": {},
   "outputs": [
    {
     "data": {
      "text/plain": [
       "{1: 'h', 2: 'a', 3: 'r', 4: 'c', 5: 'GG'}"
      ]
     },
     "execution_count": 20,
     "metadata": {},
     "output_type": "execute_result"
    }
   ],
   "source": [
    "# updating elemets to dictionary\n",
    "d[5]=\"GG\"\n",
    "d"
   ]
  },
  {
   "cell_type": "code",
   "execution_count": 22,
   "id": "8f8e9a9c",
   "metadata": {},
   "outputs": [
    {
     "data": {
      "text/plain": [
       "{1: 'h', 2: 'a', 3: 'r', 4: 'c', 5: 'GG', 6: 'HH'}"
      ]
     },
     "execution_count": 22,
     "metadata": {},
     "output_type": "execute_result"
    }
   ],
   "source": [
    "# adding elemetss\n",
    "d[6]=\"HH\"\n",
    "d"
   ]
  },
  {
   "cell_type": "code",
   "execution_count": 28,
   "id": "b889da13",
   "metadata": {},
   "outputs": [],
   "source": [
    "# deleting elemets\n",
    "#1 del  - key you arew giving to dlt must exist in dictionary otherwise error\n",
    "\n",
    "del d[6]"
   ]
  },
  {
   "cell_type": "code",
   "execution_count": 29,
   "id": "1f885f58",
   "metadata": {},
   "outputs": [
    {
     "data": {
      "text/plain": [
       "{1: 'h', 2: 'a', 4: 'c', 5: 'GG'}"
      ]
     },
     "execution_count": 29,
     "metadata": {},
     "output_type": "execute_result"
    }
   ],
   "source": [
    "d"
   ]
  },
  {
   "cell_type": "code",
   "execution_count": 30,
   "id": "e19a83e1",
   "metadata": {},
   "outputs": [
    {
     "data": {
      "text/plain": [
       "'c'"
      ]
     },
     "execution_count": 30,
     "metadata": {},
     "output_type": "execute_result"
    }
   ],
   "source": [
    "# 2 - pop # not only dlt the key value pair but also return the corresponding value\n",
    "d.pop(4) # if you try to dlt key which does not exist, python return error"
   ]
  },
  {
   "cell_type": "code",
   "execution_count": 32,
   "id": "4034c525",
   "metadata": {},
   "outputs": [
    {
     "ename": "KeyError",
     "evalue": "10",
     "output_type": "error",
     "traceback": [
      "\u001b[1;31m---------------------------------------------------------------------------\u001b[0m",
      "\u001b[1;31mKeyError\u001b[0m                                  Traceback (most recent call last)",
      "Input \u001b[1;32mIn [32]\u001b[0m, in \u001b[0;36m<cell line: 1>\u001b[1;34m()\u001b[0m\n\u001b[1;32m----> 1\u001b[0m \u001b[43md\u001b[49m\u001b[38;5;241;43m.\u001b[39;49m\u001b[43mpop\u001b[49m\u001b[43m(\u001b[49m\u001b[38;5;241;43m10\u001b[39;49m\u001b[43m)\u001b[49m\n",
      "\u001b[1;31mKeyError\u001b[0m: 10"
     ]
    }
   ],
   "source": [
    "d.pop(10)"
   ]
  },
  {
   "cell_type": "code",
   "execution_count": 33,
   "id": "df825c6c",
   "metadata": {},
   "outputs": [
    {
     "data": {
      "text/plain": [
       "'not found'"
      ]
     },
     "execution_count": 33,
     "metadata": {},
     "output_type": "execute_result"
    }
   ],
   "source": [
    "# but pop aloows you to specify what to display when given key does not exists \n",
    "d.pop(10,\"not found\")\n"
   ]
  },
  {
   "cell_type": "code",
   "execution_count": 34,
   "id": "2ba10bd2",
   "metadata": {},
   "outputs": [
    {
     "data": {
      "text/plain": [
       "False"
      ]
     },
     "execution_count": 34,
     "metadata": {},
     "output_type": "execute_result"
    }
   ],
   "source": [
    "# checking for existence of a key - membrship operator check ponlt for existence of key not its value\n",
    "3 in d\n"
   ]
  },
  {
   "cell_type": "code",
   "execution_count": 35,
   "id": "aad81881",
   "metadata": {},
   "outputs": [
    {
     "data": {
      "text/plain": [
       "True"
      ]
     },
     "execution_count": 35,
     "metadata": {},
     "output_type": "execute_result"
    }
   ],
   "source": [
    "2 in d"
   ]
  },
  {
   "cell_type": "code",
   "execution_count": 36,
   "id": "9949c570",
   "metadata": {},
   "outputs": [
    {
     "data": {
      "text/plain": [
       "3"
      ]
     },
     "execution_count": 36,
     "metadata": {},
     "output_type": "execute_result"
    }
   ],
   "source": [
    "# dictionary funcgtion and methods\n",
    "# len \n",
    "len(d)"
   ]
  },
  {
   "cell_type": "code",
   "execution_count": 42,
   "id": "b1cf1414",
   "metadata": {},
   "outputs": [
    {
     "data": {
      "text/plain": [
       "{}"
      ]
     },
     "execution_count": 42,
     "metadata": {},
     "output_type": "execute_result"
    }
   ],
   "source": [
    "# clear - remove all elements while del removes complete dictinary as an objects, after del the dictionary objects noit exists not even empty\n",
    "a.clear()\n",
    "a"
   ]
  },
  {
   "cell_type": "code",
   "execution_count": 45,
   "id": "f0c4528c",
   "metadata": {},
   "outputs": [
    {
     "ename": "NameError",
     "evalue": "name 'c' is not defined",
     "output_type": "error",
     "traceback": [
      "\u001b[1;31m---------------------------------------------------------------------------\u001b[0m",
      "\u001b[1;31mNameError\u001b[0m                                 Traceback (most recent call last)",
      "Input \u001b[1;32mIn [45]\u001b[0m, in \u001b[0;36m<cell line: 1>\u001b[1;34m()\u001b[0m\n\u001b[1;32m----> 1\u001b[0m \u001b[38;5;28;01mdel\u001b[39;00m(c)\n\u001b[0;32m      2\u001b[0m c\n",
      "\u001b[1;31mNameError\u001b[0m: name 'c' is not defined"
     ]
    }
   ],
   "source": [
    "del(c)\n",
    "c"
   ]
  },
  {
   "cell_type": "code",
   "execution_count": 47,
   "id": "30b28b76",
   "metadata": {},
   "outputs": [
    {
     "data": {
      "text/plain": [
       "'a'"
      ]
     },
     "execution_count": 47,
     "metadata": {},
     "output_type": "execute_result"
    }
   ],
   "source": [
    "# get method- get the itme iwth the given kjey, imilar to dictionary_ name[key], if key not present then error\n",
    "d.get(2) # both sam results\n",
    "d[2]"
   ]
  },
  {
   "cell_type": "code",
   "execution_count": 48,
   "id": "41d65f95",
   "metadata": {},
   "outputs": [
    {
     "data": {
      "text/plain": [
       "dict_items([(1, 'h'), (2, 'a'), (5, 'GG')])"
      ]
     },
     "execution_count": 48,
     "metadata": {},
     "output_type": "execute_result"
    }
   ],
   "source": [
    "# items - reeturn all items in dictionary as a sequence of (key: value) tuple, returned not in order\n",
    "d.items()"
   ]
  },
  {
   "cell_type": "code",
   "execution_count": 49,
   "id": "e22f8634",
   "metadata": {},
   "outputs": [
    {
     "data": {
      "text/plain": [
       "dict_keys([1, 2, 5])"
      ]
     },
     "execution_count": 49,
     "metadata": {},
     "output_type": "execute_result"
    }
   ],
   "source": [
    "# keys method- returns all keys in dictionary as a sequence of keys( in form of list), no specific order\n",
    "d.keys()"
   ]
  },
  {
   "cell_type": "code",
   "execution_count": 50,
   "id": "53166175",
   "metadata": {},
   "outputs": [
    {
     "data": {
      "text/plain": [
       "dict_values(['h', 'a', 'GG'])"
      ]
     },
     "execution_count": 50,
     "metadata": {},
     "output_type": "execute_result"
    }
   ],
   "source": [
    "# values method- returns all values from dicitonary as a sequence , no order\n",
    "d.values()"
   ]
  },
  {
   "cell_type": "code",
   "execution_count": 55,
   "id": "113a385f",
   "metadata": {},
   "outputs": [
    {
     "data": {
      "text/plain": [
       "{1: 'm', 2: 'a', 5: 'HH', 7: 'o'}"
      ]
     },
     "execution_count": 55,
     "metadata": {},
     "output_type": "execute_result"
    }
   ],
   "source": [
    "# update method- \n",
    "k={1:\"m\",7:\"o\",5:\"HH\"}\n",
    "k\n",
    "d.update(k)\n",
    "d"
   ]
  },
  {
   "cell_type": "code",
   "execution_count": 56,
   "id": "36ab9ec7",
   "metadata": {},
   "outputs": [
    {
     "data": {
      "text/plain": [
       "{1: 'm', 7: 'o', 5: 'HH'}"
      ]
     },
     "execution_count": 56,
     "metadata": {},
     "output_type": "execute_result"
    }
   ],
   "source": [
    "k\n"
   ]
  },
  {
   "cell_type": "code",
   "execution_count": 58,
   "id": "4bdaf782",
   "metadata": {},
   "outputs": [
    {
     "data": {
      "text/plain": [
       "{1: 'm', 7: 'o', 5: 'HH', 2: 'a'}"
      ]
     },
     "execution_count": 58,
     "metadata": {},
     "output_type": "execute_result"
    }
   ],
   "source": [
    "k.update(d)\n",
    "k"
   ]
  },
  {
   "cell_type": "code",
   "execution_count": 64,
   "id": "c3c458af",
   "metadata": {},
   "outputs": [
    {
     "name": "stdout",
     "output_type": "stream",
     "text": [
      "value you want to serach:2\n"
     ]
    }
   ],
   "source": [
    "x={1:\"KK\",2:\"LR\",3:\"MK\",4:\"PP\"}\n",
    "inp=input(\"value you want to serach:\")\n",
    "if inp in x.values():\n",
    "    for i in x:\n",
    "        if inp==x[i]:\n",
    "            print(i)\n",
    "        else:\n",
    "            print(\"Value doesn't exist\")\n"
   ]
  },
  {
   "cell_type": "code",
   "execution_count": null,
   "id": "9ecb9ace",
   "metadata": {},
   "outputs": [],
   "source": []
  }
 ],
 "metadata": {
  "kernelspec": {
   "display_name": "Python 3 (ipykernel)",
   "language": "python",
   "name": "python3"
  },
  "language_info": {
   "codemirror_mode": {
    "name": "ipython",
    "version": 3
   },
   "file_extension": ".py",
   "mimetype": "text/x-python",
   "name": "python",
   "nbconvert_exporter": "python",
   "pygments_lexer": "ipython3",
   "version": "3.9.12"
  }
 },
 "nbformat": 4,
 "nbformat_minor": 5
}
